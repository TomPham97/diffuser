{
 "cells": [
  {
   "cell_type": "markdown",
   "id": "cbc2934c-01cf-4036-84d9-95b7aef5ab35",
   "metadata": {},
   "source": [
    "# Stable Diffusion v 1.4\n",
    "Implement Stable Diffusion via Huggingface diffusers"
   ]
  },
  {
   "cell_type": "code",
   "execution_count": null,
   "id": "0f0ca3d0-bbf2-4c19-abc7-164caeffc63e",
   "metadata": {},
   "outputs": [],
   "source": []
  }
 ],
 "metadata": {
  "kernelspec": {
   "display_name": "Python 3 (ipykernel)",
   "language": "python",
   "name": "python3"
  },
  "language_info": {
   "codemirror_mode": {
    "name": "ipython",
    "version": 3
   },
   "file_extension": ".py",
   "mimetype": "text/x-python",
   "name": "python",
   "nbconvert_exporter": "python",
   "pygments_lexer": "ipython3",
   "version": "3.9.13"
  }
 },
 "nbformat": 4,
 "nbformat_minor": 5
}
