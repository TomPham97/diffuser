{
 "cells": [
  {
   "cell_type": "markdown",
   "id": "cbc2934c-01cf-4036-84d9-95b7aef5ab35",
   "metadata": {},
   "source": [
    "# Stable Diffusion v 1.4\n",
    "Implement Stable Diffusion via Huggingface diffusers"
   ]
  },
  {
   "cell_type": "code",
   "execution_count": 12,
   "id": "0f0ca3d0-bbf2-4c19-abc7-164caeffc63e",
   "metadata": {},
   "outputs": [
    {
     "name": "stdout",
     "output_type": "stream",
     "text": [
      "\u001b[33mWARNING: Running pip as the 'root' user can result in broken permissions and conflicting behaviour with the system package manager. It is recommended to use a virtual environment instead: https://pip.pypa.io/warnings/venv\u001b[0m\u001b[33m\n",
      "\u001b[0mNote: you may need to restart the kernel to use updated packages.\n"
     ]
    }
   ],
   "source": [
    "# Install dependencies\n",
    "%pip install -Uq -r requirements.txt"
   ]
  },
  {
   "cell_type": "code",
   "execution_count": 21,
   "id": "85ca9cd1-95bf-4926-addb-08a415e84563",
   "metadata": {},
   "outputs": [],
   "source": [
    "with open('huggingface-access-tokens.txt', 'r') as f:\n",
    "    YOUR_TOKEN = f.readlines()[0]"
   ]
  },
  {
   "cell_type": "markdown",
   "id": "18864c0f-8fc4-4543-8f59-430f01d33661",
   "metadata": {},
   "source": [
    "To retrive the access tokens, refer to [this documentation](https://huggingface.co/docs/hub/security-tokens).\n",
    "\n",
    "[Link to get token](https://huggingface.co/settings/tokens)."
   ]
  },
  {
   "cell_type": "raw",
   "id": "379f9df5-b874-413b-83ea-6015bee56961",
   "metadata": {},
   "source": [
    "YOUR_TOKEN = \"hf_...\""
   ]
  },
  {
   "cell_type": "code",
   "execution_count": 14,
   "id": "bc201c50-7410-4f64-8b23-598be64d387c",
   "metadata": {},
   "outputs": [
    {
     "name": "stdout",
     "output_type": "stream",
     "text": [
      "diffusers version:  0.2.4\n"
     ]
    }
   ],
   "source": [
    "import diffusers\n",
    "print(\"diffusers version: \", diffusers.__version__)"
   ]
  },
  {
   "cell_type": "code",
   "execution_count": 15,
   "id": "7e612d90-7adf-4294-b46c-f923cacf5674",
   "metadata": {},
   "outputs": [],
   "source": [
    "import torch\n",
    "torch_device = \"cuda\" if torch.cuda.is_available() else \"cpu\""
   ]
  },
  {
   "cell_type": "code",
   "execution_count": 23,
   "id": "7ce37096-c301-407d-b393-faf2e74bee60",
   "metadata": {},
   "outputs": [],
   "source": [
    "%%capture\n",
    "from diffusers import StableDiffusionPipeline\n",
    "\n",
    "pipe = StableDiffusionPipeline.from_pretrained(\"CompVis/stable-diffusion-v1-4\",\n",
    "                                               revision = \"fp16\",\n",
    "                                               torch_dtype = torch.float16,\n",
    "                                               use_auth_token = YOUR_TOKEN)"
   ]
  },
  {
   "cell_type": "code",
   "execution_count": 32,
   "id": "a55ef453-2960-4d6d-81d6-99e8ab9a8522",
   "metadata": {},
   "outputs": [
    {
     "data": {
      "text/plain": [
       "StableDiffusionPipeline {\n",
       "  \"_class_name\": \"StableDiffusionPipeline\",\n",
       "  \"_diffusers_version\": \"0.2.4\",\n",
       "  \"feature_extractor\": [\n",
       "    \"transformers\",\n",
       "    \"CLIPFeatureExtractor\"\n",
       "  ],\n",
       "  \"safety_checker\": [\n",
       "    \"stable_diffusion\",\n",
       "    \"StableDiffusionSafetyChecker\"\n",
       "  ],\n",
       "  \"scheduler\": [\n",
       "    \"diffusers\",\n",
       "    \"PNDMScheduler\"\n",
       "  ],\n",
       "  \"text_encoder\": [\n",
       "    \"transformers\",\n",
       "    \"CLIPTextModel\"\n",
       "  ],\n",
       "  \"tokenizer\": [\n",
       "    \"transformers\",\n",
       "    \"CLIPTokenizer\"\n",
       "  ],\n",
       "  \"unet\": [\n",
       "    \"diffusers\",\n",
       "    \"UNet2DConditionModel\"\n",
       "  ],\n",
       "  \"vae\": [\n",
       "    \"diffusers\",\n",
       "    \"AutoencoderKL\"\n",
       "  ]\n",
       "}"
      ]
     },
     "execution_count": 32,
     "metadata": {},
     "output_type": "execute_result"
    }
   ],
   "source": [
    "pipe.to(torch_device)"
   ]
  },
  {
   "cell_type": "code",
   "execution_count": null,
   "id": "4bf844c9-59f5-4a55-85bb-b2aaf297e276",
   "metadata": {},
   "outputs": [],
   "source": [
    "prompt = \"a photograph of an astronaut riding a horse\"\n",
    "\n",
    "image = pipe(prompt)[\"sample\"][0]"
   ]
  },
  {
   "cell_type": "markdown",
   "id": "e32a433f-3b7c-460e-8df7-687db386d20f",
   "metadata": {},
   "source": [
    "Deterministic output instead of random image generation."
   ]
  },
  {
   "cell_type": "code",
   "execution_count": null,
   "id": "b548361d-8e9f-4a6b-9fc8-d6df121ff704",
   "metadata": {},
   "outputs": [],
   "source": [
    "generator = torch.Generator(\"cuda\").manual_seed(42)\n",
    "image = pipe(prompt,\n",
    "            guidance_scale = 7.5,\n",
    "            generator = generator\n",
    "            )[\"sample\"][0]"
   ]
  },
  {
   "cell_type": "code",
   "execution_count": null,
   "id": "e272f692-ed2b-4ca0-b9ba-6cc48cf0e700",
   "metadata": {},
   "outputs": [],
   "source": []
  }
 ],
 "metadata": {
  "kernelspec": {
   "display_name": "Python 3 (ipykernel)",
   "language": "python",
   "name": "python3"
  },
  "language_info": {
   "codemirror_mode": {
    "name": "ipython",
    "version": 3
   },
   "file_extension": ".py",
   "mimetype": "text/x-python",
   "name": "python",
   "nbconvert_exporter": "python",
   "pygments_lexer": "ipython3",
   "version": "3.9.13"
  }
 },
 "nbformat": 4,
 "nbformat_minor": 5
}
