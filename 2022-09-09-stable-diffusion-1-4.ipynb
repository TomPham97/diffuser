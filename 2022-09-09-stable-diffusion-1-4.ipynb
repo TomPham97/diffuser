{
 "cells": [
  {
   "cell_type": "markdown",
   "id": "cbc2934c-01cf-4036-84d9-95b7aef5ab35",
   "metadata": {},
   "source": [
    "# Stable Diffusion v 1.4\n",
    "Implement Stable Diffusion via Huggingface diffusers"
   ]
  },
  {
   "cell_type": "code",
   "execution_count": 1,
   "id": "0f0ca3d0-bbf2-4c19-abc7-164caeffc63e",
   "metadata": {},
   "outputs": [
    {
     "name": "stdout",
     "output_type": "stream",
     "text": [
      "\u001b[33mWARNING: Running pip as the 'root' user can result in broken permissions and conflicting behaviour with the system package manager. It is recommended to use a virtual environment instead: https://pip.pypa.io/warnings/venv\u001b[0m\u001b[33m\n",
      "\u001b[0mNote: you may need to restart the kernel to use updated packages.\n"
     ]
    }
   ],
   "source": [
    "# Install dependencies\n",
    "%pip install -Uq -r requirements.txt"
   ]
  },
  {
   "cell_type": "code",
   "execution_count": 1,
   "id": "85ca9cd1-95bf-4926-addb-08a415e84563",
   "metadata": {},
   "outputs": [],
   "source": [
    "with open('huggingface-access-tokens.txt', 'r') as f:\n",
    "    YOUR_TOKEN = f.readlines()[0]"
   ]
  },
  {
   "cell_type": "markdown",
   "id": "18864c0f-8fc4-4543-8f59-430f01d33661",
   "metadata": {},
   "source": [
    "To retrive the access tokens, refer to [this documentation](https://huggingface.co/docs/hub/security-tokens).\n",
    "\n",
    "[Link to get token](https://huggingface.co/settings/tokens)."
   ]
  },
  {
   "cell_type": "raw",
   "id": "379f9df5-b874-413b-83ea-6015bee56961",
   "metadata": {},
   "source": [
    "YOUR_TOKEN = \"hf_...\""
   ]
  },
  {
   "cell_type": "code",
   "execution_count": null,
   "id": "bc201c50-7410-4f64-8b23-598be64d387c",
   "metadata": {},
   "outputs": [],
   "source": [
    "import diffusers\n",
    "print(\"diffusers version: \", diffusers.__version__)"
   ]
  },
  {
   "cell_type": "code",
   "execution_count": 3,
   "id": "7e612d90-7adf-4294-b46c-f923cacf5674",
   "metadata": {},
   "outputs": [],
   "source": [
    "import torch\n",
    "torch_device = \"cuda\" if torch.cuda.is_available() else \"cpu\""
   ]
  },
  {
   "cell_type": "code",
   "execution_count": 4,
   "id": "7ce37096-c301-407d-b393-faf2e74bee60",
   "metadata": {},
   "outputs": [
    {
     "name": "stderr",
     "output_type": "stream",
     "text": [
      "{'trained_betas'} was not found in config. Values will be initialized to default values.\n"
     ]
    }
   ],
   "source": [
    "%%capture\n",
    "from diffusers import StableDiffusionPipeline\n",
    "\n",
    "pipe = StableDiffusionPipeline.from_pretrained(\"CompVis/stable-diffusion-v1-4\",\n",
    "                                               # revision = \"fp16\",\n",
    "                                               # torch_dtype = torch.float16,\n",
    "                                               use_auth_token = YOUR_TOKEN)"
   ]
  },
  {
   "cell_type": "code",
   "execution_count": 5,
   "id": "92979675-de24-4f21-bf40-0e5d5a8a7a5a",
   "metadata": {},
   "outputs": [],
   "source": [
    "pipe = pipe.to(torch_device)\n",
    "\n",
    "pipe = pipe.enable_attention_slicing() # attention optimization for less memory usage"
   ]
  },
  {
   "cell_type": "code",
   "execution_count": 6,
   "id": "4bf844c9-59f5-4a55-85bb-b2aaf297e276",
   "metadata": {},
   "outputs": [
    {
     "ename": "TypeError",
     "evalue": "'NoneType' object is not callable",
     "output_type": "error",
     "traceback": [
      "\u001b[0;31m---------------------------------------------------------------------------\u001b[0m",
      "\u001b[0;31mTypeError\u001b[0m                                 Traceback (most recent call last)",
      "Input \u001b[0;32mIn [6]\u001b[0m, in \u001b[0;36m<cell line: 3>\u001b[0;34m()\u001b[0m\n\u001b[1;32m      1\u001b[0m prompt \u001b[38;5;241m=\u001b[39m \u001b[38;5;124m\"\u001b[39m\u001b[38;5;124ma photograph of an astronaut riding a horse\u001b[39m\u001b[38;5;124m\"\u001b[39m\n\u001b[0;32m----> 3\u001b[0m image \u001b[38;5;241m=\u001b[39m \u001b[43mpipe\u001b[49m\u001b[43m(\u001b[49m\u001b[43mprompt\u001b[49m\u001b[43m)\u001b[49m\u001b[38;5;241m.\u001b[39mimages[\u001b[38;5;241m0\u001b[39m]\n",
      "\u001b[0;31mTypeError\u001b[0m: 'NoneType' object is not callable"
     ]
    }
   ],
   "source": [
    "prompt = \"a photograph of an astronaut riding a horse\"\n",
    "\n",
    "image = pipe(prompt).images[0]"
   ]
  },
  {
   "cell_type": "markdown",
   "id": "e32a433f-3b7c-460e-8df7-687db386d20f",
   "metadata": {},
   "source": [
    "Deterministic output instead of random image generation."
   ]
  },
  {
   "cell_type": "code",
   "execution_count": 7,
   "id": "b548361d-8e9f-4a6b-9fc8-d6df121ff704",
   "metadata": {},
   "outputs": [
    {
     "ename": "TypeError",
     "evalue": "'NoneType' object is not callable",
     "output_type": "error",
     "traceback": [
      "\u001b[0;31m---------------------------------------------------------------------------\u001b[0m",
      "\u001b[0;31mTypeError\u001b[0m                                 Traceback (most recent call last)",
      "Input \u001b[0;32mIn [7]\u001b[0m, in \u001b[0;36m<cell line: 2>\u001b[0;34m()\u001b[0m\n\u001b[1;32m      1\u001b[0m generator \u001b[38;5;241m=\u001b[39m torch\u001b[38;5;241m.\u001b[39mGenerator(torch_device)\u001b[38;5;241m.\u001b[39mmanual_seed(\u001b[38;5;241m42\u001b[39m)\n\u001b[0;32m----> 2\u001b[0m image \u001b[38;5;241m=\u001b[39m \u001b[43mpipe\u001b[49m\u001b[43m(\u001b[49m\u001b[43mprompt\u001b[49m\u001b[43m,\u001b[49m\n\u001b[1;32m      3\u001b[0m \u001b[43m            \u001b[49m\u001b[43mguidance_scale\u001b[49m\u001b[43m \u001b[49m\u001b[38;5;241;43m=\u001b[39;49m\u001b[43m \u001b[49m\u001b[38;5;241;43m7.5\u001b[39;49m\u001b[43m,\u001b[49m\n\u001b[1;32m      4\u001b[0m \u001b[43m            \u001b[49m\u001b[43mgenerator\u001b[49m\u001b[43m \u001b[49m\u001b[38;5;241;43m=\u001b[39;49m\u001b[43m \u001b[49m\u001b[43mgenerator\u001b[49m\n\u001b[1;32m      5\u001b[0m \u001b[43m            \u001b[49m\u001b[43m)\u001b[49m\u001b[38;5;241m.\u001b[39mimages[\u001b[38;5;241m0\u001b[39m]\n",
      "\u001b[0;31mTypeError\u001b[0m: 'NoneType' object is not callable"
     ]
    }
   ],
   "source": [
    "generator = torch.Generator(torch_device).manual_seed(42)\n",
    "image = pipe(prompt,\n",
    "            guidance_scale = 7.5,\n",
    "            generator = generator\n",
    "            ).images[0]"
   ]
  },
  {
   "cell_type": "code",
   "execution_count": null,
   "id": "e272f692-ed2b-4ca0-b9ba-6cc48cf0e700",
   "metadata": {},
   "outputs": [],
   "source": []
  }
 ],
 "metadata": {
  "kernelspec": {
   "display_name": "Python 3 (ipykernel)",
   "language": "python",
   "name": "python3"
  },
  "language_info": {
   "codemirror_mode": {
    "name": "ipython",
    "version": 3
   },
   "file_extension": ".py",
   "mimetype": "text/x-python",
   "name": "python",
   "nbconvert_exporter": "python",
   "pygments_lexer": "ipython3",
   "version": "3.9.13"
  }
 },
 "nbformat": 4,
 "nbformat_minor": 5
}
